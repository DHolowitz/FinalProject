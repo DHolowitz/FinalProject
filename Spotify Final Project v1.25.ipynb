{
 "cells": [
  {
   "cell_type": "code",
   "execution_count": 518,
   "metadata": {},
   "outputs": [],
   "source": [
    "import spotipy\n",
    "import spotipy.util as util\n",
    "import pandas as pd\n",
    "import os\n",
    "import time\n",
    "import requests\n",
    "from bs4 import BeautifulSoup as bs\n",
    "import datetime\n",
    "from datetime import timedelta, date\n",
    "import glob\n",
    "from os import listdir\n",
    "import numpy as np\n",
    "import pymongo\n",
    "import csv\n",
    "import json\n",
    "import sys, getopt, pprint\n",
    "from pymongo import MongoClient\n",
    "import types\n",
    "import itertools\n",
    "from itertools import zip_longest\n",
    "import scipy.stats\n",
    "import matplotlib.pyplot as plt\n",
    "import seaborn as sns\n",
    "from sklearn.model_selection import train_test_split\n",
    "from sklearn.metrics import accuracy_score\n",
    "from sklearn.ensemble import RandomForestClassifier\n",
    "from sklearn.model_selection import GridSearchCV"
   ]
  },
  {
   "cell_type": "code",
   "execution_count": 519,
   "metadata": {},
   "outputs": [],
   "source": [
    "DaveDF = pd.read_csv('dfs/DaveDF.csv')\n",
    "VladDF = pd.read_csv('dfs/VLAD_DF.csv')\n",
    "KevDF = pd.read_csv('dfs/KevDF.csv')\n",
    "StephenDF = pd.read_csv('dfs/StephenDF.csv')\n",
    "WhitePandas = pd.read_csv('dfs/WhitePandas.csv')\n",
    "DaveDF_means = pd.read_csv('dfs/Dave_means.csv')\n",
    "VladDF_means = pd.read_csv('dfs/Vlad_means.csv')\n",
    "KevDF_means = pd.read_csv('dfs/Kev_means.csv')\n",
    "StephenDF_means = pd.read_csv('dfs/Stephen_means.csv')\n",
    "WhitePandas_mean = pd.read_csv('dfs/WhitePandas_means.csv')"
   ]
  },
  {
   "cell_type": "code",
   "execution_count": 520,
   "metadata": {},
   "outputs": [],
   "source": [
    "#bright=[\"#F8766D\",\"#00BFC4\",\"#FFC400\",\"#03ED3A\",\"#003FFF\",\"#8A2BE2\"]\n",
    "#sns.set_palette(bright)\n",
    "#\n",
    "##plot mean audio features by owner\n",
    "#new = WhitePandas_mean.melt('owner', var_name='cols',  value_name='vals')\n",
    "#sns.factorplot(x=\"cols\", y=\"vals\", hue='owner', data=new, kind='bar', size=10, legend_out=False)\n",
    "#plt.xticks(rotation = 90, fontsize = 12) #set audio feature labels\n",
    "#plt.ylabel(\"Value\", fontsize = 15) #set y axis label\n",
    "#plt.xlabel(\"Audio Features\", fontsize = 15) #set x axis label\n",
    "#plt.title(\"Mean Audio Features by Owner\", fontsize = 17) #set chart title\n",
    "#plt.legend(fontsize=12) #increase legend fontsize\n",
    "#plt.show() #remove text output"
   ]
  },
  {
   "cell_type": "code",
   "execution_count": 521,
   "metadata": {},
   "outputs": [
    {
     "name": "stdout",
     "output_type": "stream",
     "text": [
      "Features Training Set: (170, 11) Features Testing Set: (30, 11)\n",
      "Target Training Set: (170,) Target Testing Set: (30,)\n"
     ]
    }
   ],
   "source": [
    "#####Separate Training Set into Train and Test Sets\n",
    "#separate the dataset into two separate sets to train and test the model\n",
    "train = pd.read_csv(\"dfs/WhitePandas.csv\")\n",
    "features = train.drop(['Owner','Track ID','Tracks','Artists', 'Albums'], axis=1)\n",
    "target = train['Owner']\n",
    "\n",
    "x_train, x_test, y_train, y_test = train_test_split(features, target, test_size= .15)\n",
    "print('Features Training Set:', x_train.shape, 'Features Testing Set:', x_test.shape)\n",
    "print('Target Training Set:', y_train.shape, 'Target Testing Set:', y_test.shape)"
   ]
  },
  {
   "cell_type": "code",
   "execution_count": 522,
   "metadata": {},
   "outputs": [
    {
     "name": "stdout",
     "output_type": "stream",
     "text": [
      "Random Forest: 66.66666666666666\n"
     ]
    }
   ],
   "source": [
    "#Random Forest\n",
    "randomforest = RandomForestClassifier(random_state=42)\n",
    "randomforest.fit(x_train, y_train)\n",
    "y_pred = randomforest.predict(x_test)\n",
    "acc_randomforest = accuracy_score(y_test, y_pred, normalize=True, sample_weight=None) * 100\n",
    "#accuracy_score(y_pred, y_test) * 100\n",
    "print(\"Random Forest:\", acc_randomforest)"
   ]
  },
  {
   "cell_type": "code",
   "execution_count": 523,
   "metadata": {},
   "outputs": [
    {
     "name": "stdout",
     "output_type": "stream",
     "text": [
      "{'max_features': 'auto', 'n_estimators': 700}\n",
      "Random Forest GridSearchCV: 63.33333333333333\n"
     ]
    }
   ],
   "source": [
    "param_grid = { \n",
    "    'n_estimators': [200, 700],\n",
    "    'max_features': ['auto', 'sqrt', 'log2'\n",
    "                    ]}\n",
    "\n",
    "rf_cv = GridSearchCV(estimator=randomforest, param_grid=param_grid)\n",
    "rf_cv.fit(x_train, y_train)\n",
    "\n",
    "print(rf_cv.best_params_)\n",
    "\n",
    "y_pred = rf_cv.predict(x_test)\n",
    "acc_rfcv = acc_randomforest = accuracy_score(y_pred, y_test, normalize=True, sample_weight=None) * 100\n",
    "#accuracy_score(y_pred, y_test)*100\n",
    "print(\"Random Forest GridSearchCV:\", acc_rfcv)"
   ]
  },
  {
   "cell_type": "code",
   "execution_count": 524,
   "metadata": {},
   "outputs": [],
   "source": [
    "testdf = pd.read_csv('dfs/features.csv')\n",
    "owners = ['Dave','Kev','Stephen','Vlad','Dave','Kev','Stephen','Vlad',\n",
    "          'Dave','Kev','Stephen','Vlad','Dave','Kev','Stephen','Vlad',\n",
    "          'Dave','Kev','Stephen','Vlad','Dave','Kev','Stephen','Vlad',\n",
    "          'Dave','Kev','Stephen','Vlad','Dave','Kev','Stephen','Vlad',\n",
    "          'Dave','Kev','Stephen','Vlad','Dave','Kev','Stephen','Vlad',\n",
    "          'Dave','Kev','Stephen','Vlad','Dave','Kev','Stephen','Vlad',\n",
    "          'Dave','Kev','Stephen','Vlad','Dave','Kev','Stephen','Vlad',\n",
    "          'Dave','Kev','Stephen','Vlad','Dave','Kev','Stephen','Vlad',\n",
    "          'Dave','Kev','Stephen','Vlad','Dave','Kev','Stephen','Vlad',\n",
    "          'Dave','Kev','Stephen','Vlad','Dave','Kev','Stephen','Vlad',\n",
    "          'Dave','Kev','Stephen','Vlad','Dave','Kev','Stephen','Vlad',\n",
    "          'Dave','Kev','Stephen','Vlad','Dave','Kev','Stephen','Vlad',          \n",
    "          'Dave','Kev','Stephen','Vlad','Dave','Kev','Stephen','Vlad',\n",
    "          'Dave','Kev','Stephen','Vlad','Dave','Kev','Stephen','Vlad',\n",
    "          'Dave','Kev','Stephen','Vlad','Dave','Kev','Stephen','Vlad',\n",
    "          'Dave','Kev','Stephen','Vlad','Dave','Kev','Stephen','Vlad',\n",
    "          'Dave','Kev','Stephen','Vlad','Dave','Kev','Stephen','Vlad',\n",
    "          'Dave','Kev','Stephen','Vlad','Dave','Kev','Stephen','Vlad',\n",
    "          'Dave','Kev','Stephen','Vlad','Dave','Kev','Stephen','Vlad',\n",
    "          'Dave','Kev','Stephen','Vlad','Dave','Kev','Stephen','Vlad',\n",
    "          'Dave','Kev','Stephen','Vlad','Dave','Kev','Stephen','Vlad',\n",
    "          'Dave','Kev','Stephen','Vlad','Dave','Kev','Stephen','Vlad',\n",
    "          'Dave','Kev','Stephen','Vlad','Dave','Kev','Stephen','Vlad',\n",
    "          'Dave','Kev','Stephen','Vlad','Dave','Kev','Stephen','Vlad',\n",
    "          'Dave','Kev','Stephen','Vlad','Dave','Kev','Stephen','Vlad']"
   ]
  },
  {
   "cell_type": "code",
   "execution_count": 525,
   "metadata": {},
   "outputs": [
    {
     "data": {
      "text/plain": [
       "array(['Dave', 'Dave', 'Dave', 'Dave', 'Dave', 'Dave', 'Dave', 'Dave',\n",
       "       'Dave', 'Dave', 'Dave', 'Dave', 'Dave', 'Dave', 'Dave', 'Dave',\n",
       "       'Vlad', 'Dave', 'Dave', 'Dave', 'Dave', 'Dave', 'Dave', 'Dave',\n",
       "       'Dave', 'Dave', 'Dave', 'Dave', 'Dave', 'Dave', 'Dave', 'Dave',\n",
       "       'Dave', 'Dave', 'Dave', 'Dave', 'Dave', 'Vlad', 'Dave', 'Dave',\n",
       "       'Dave', 'Dave', 'Dave', 'Dave', 'Dave', 'Dave', 'Dave', 'Dave',\n",
       "       'Dave', 'Dave', 'Kev', 'Kev', 'Kev', 'Kev', 'Kev', 'Kev', 'Kev',\n",
       "       'Kev', 'Kev', 'Kev', 'Kev', 'Kev', 'Kev', 'Kev', 'Kev', 'Kev',\n",
       "       'Kev', 'Kev', 'Kev', 'Kev', 'Kev', 'Kev', 'Kev', 'Kev', 'Kev',\n",
       "       'Kev', 'Kev', 'Kev', 'Kev', 'Kev', 'Kev', 'Kev', 'Kev', 'Kev',\n",
       "       'Kev', 'Kev', 'Kev', 'Kev', 'Kev', 'Kev', 'Kev', 'Kev', 'Kev',\n",
       "       'Kev', 'Kev', 'Kev', 'Kev', 'Kev', 'Kev', 'Kev', 'Vlad', 'Vlad',\n",
       "       'Vlad', 'Vlad', 'Vlad', 'Vlad', 'Vlad', 'Vlad', 'Vlad', 'Vlad',\n",
       "       'Kev', 'Vlad', 'Vlad', 'Vlad', 'Vlad', 'Vlad', 'Vlad', 'Vlad',\n",
       "       'Vlad', 'Vlad', 'Vlad', 'Vlad', 'Kev', 'Vlad', 'Vlad', 'Vlad',\n",
       "       'Vlad', 'Vlad', 'Vlad', 'Vlad', 'Vlad', 'Vlad', 'Kev', 'Vlad',\n",
       "       'Vlad', 'Vlad', 'Vlad', 'Vlad', 'Vlad', 'Vlad', 'Vlad', 'Vlad',\n",
       "       'Vlad', 'Vlad', 'Vlad', 'Vlad', 'Vlad', 'Vlad', 'Vlad', 'Vlad',\n",
       "       'Stephen', 'Stephen', 'Stephen', 'Stephen', 'Stephen', 'Stephen',\n",
       "       'Stephen', 'Dave', 'Stephen', 'Stephen', 'Stephen', 'Stephen',\n",
       "       'Stephen', 'Stephen', 'Stephen', 'Stephen', 'Stephen', 'Stephen',\n",
       "       'Stephen', 'Stephen', 'Stephen', 'Stephen', 'Stephen', 'Stephen',\n",
       "       'Stephen', 'Stephen', 'Stephen', 'Stephen', 'Stephen', 'Stephen',\n",
       "       'Stephen', 'Stephen', 'Stephen', 'Stephen', 'Stephen', 'Stephen',\n",
       "       'Stephen', 'Stephen', 'Stephen', 'Stephen', 'Stephen', 'Stephen',\n",
       "       'Stephen', 'Stephen', 'Stephen', 'Stephen', 'Stephen', 'Stephen',\n",
       "       'Dave', 'Stephen'], dtype=object)"
      ]
     },
     "execution_count": 525,
     "metadata": {},
     "output_type": "execute_result"
    }
   ],
   "source": [
    "prediction = CV_randomforest.predict(testdf)\n",
    "prediction"
   ]
  },
  {
   "cell_type": "code",
   "execution_count": 526,
   "metadata": {},
   "outputs": [],
   "source": [
    "accuracy = accuracy_score(prediction, owners)"
   ]
  },
  {
   "cell_type": "code",
   "execution_count": 527,
   "metadata": {},
   "outputs": [
    {
     "data": {
      "text/plain": [
       "0.24"
      ]
     },
     "execution_count": 527,
     "metadata": {},
     "output_type": "execute_result"
    }
   ],
   "source": [
    "accuracy"
   ]
  },
  {
   "cell_type": "code",
   "execution_count": 528,
   "metadata": {},
   "outputs": [
    {
     "name": "stdout",
     "output_type": "stream",
     "text": [
      "Correct Predictions: 48/200\n",
      "Accuracy: 24.00%\n"
     ]
    }
   ],
   "source": [
    "print(\"Correct Predictions: %d/%d\"%(accuracy*len(owners),len(owners)))\n",
    "print(\"Accuracy: %.2f%%\"%(accuracy*100))"
   ]
  },
  {
   "cell_type": "code",
   "execution_count": null,
   "metadata": {},
   "outputs": [],
   "source": []
  },
  {
   "cell_type": "code",
   "execution_count": null,
   "metadata": {},
   "outputs": [],
   "source": []
  }
 ],
 "metadata": {
  "kernelspec": {
   "display_name": "Python 3",
   "language": "python",
   "name": "python3"
  },
  "language_info": {
   "codemirror_mode": {
    "name": "ipython",
    "version": 3
   },
   "file_extension": ".py",
   "mimetype": "text/x-python",
   "name": "python",
   "nbconvert_exporter": "python",
   "pygments_lexer": "ipython3",
   "version": "3.8.1"
  }
 },
 "nbformat": 4,
 "nbformat_minor": 2
}

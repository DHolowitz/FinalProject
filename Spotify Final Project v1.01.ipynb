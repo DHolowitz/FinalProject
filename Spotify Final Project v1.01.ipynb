{
 "cells": [
  {
   "cell_type": "code",
   "execution_count": null,
   "metadata": {},
   "outputs": [],
   "source": [
    "import numpy as np\n",
    "import pandas as pd\n",
    "import scipy.stats\n",
    "import matplotlib.pyplot as plt\n",
    "import seaborn as sns\n",
    "%matplotlib inline"
   ]
  },
  {
   "cell_type": "code",
   "execution_count": null,
   "metadata": {},
   "outputs": [],
   "source": [
    "DaveDF = pd.read_csv('DaveDF.csv')\n",
    "VladDF = pd.read_csv('VLAD_DF.csv')\n",
    "KevDF = pd.read_csv('KevDF.csv')\n",
    "StephenDF = pd.read_csv('StephenDF.csv')"
   ]
  },
  {
   "cell_type": "code",
   "execution_count": null,
   "metadata": {},
   "outputs": [],
   "source": [
    "WhitePandas = pd.DataFrame(columns=['Owner','Track ID', 'Tracks', 'Artists', 'Albums', 'danceability', 'energy',\n",
    "       'key', 'loudness', 'mode', 'speechiness', 'acousticness',\n",
    "       'instrumentalness', 'liveness', 'valence', 'tempo'])\n",
    "\n",
    "for index, row in DaveDF.iterrows():\n",
    "    WhitePandas.loc[DaveDF.shape[0]] =  ['Dave', row['Track ID'], row['Tracks'], row['Artists'],row['Albums'], row['danceability'], row ['energy'],row['key'], row['loudness'], row['mode'], row['speechiness'],row['acousticness'], row['instrumentalness'], row['liveness'],row['valence'], row['tempo']]\n",
    "\n",
    "for index, row in VladDF.iterrows():\n",
    "    WhitePandas.loc[VladDF.shape[0]] =  ['Vlad', row['Track ID'], row['Tracks'], row['Artists'],row['Albums'], row['danceability'], row ['energy'],row['key'], row['loudness'], row['mode'], row['speechiness'],row['acousticness'], row['instrumentalness'], row['liveness'],row['valence'], row['tempo']]\n",
    "    \n",
    "for index, row in KevDF.iterrows():\n",
    "    WhitePandas.loc[KevDF.shape[0]] =  ['Kev', row['Track ID'], row['Tracks'], row['Artists'],row['Albums'], row['danceability'], row ['energy'],row['key'], row['loudness'], row['mode'], row['speechiness'],row['acousticness'], row['instrumentalness'], row['liveness'],row['valence'], row['tempo']]\n",
    "    \n",
    "for index, row in StephenDF.iterrows():\n",
    "    StephenDF.loc[StephenDF.shape[0]] =  ['Stephen', row['Track ID'], row['Tracks'], row['Artists'],row['Albums'], row['danceability'], row ['energy'],row['key'], row['loudness'], row['mode'], row['speechiness'],row['acousticness'], row['instrumentalness'], row['liveness'],row['valence'], row['tempo']]\n"
   ]
  },
  {
   "cell_type": "code",
   "execution_count": null,
   "metadata": {},
   "outputs": [],
   "source": [
    "WhitePandas.to_csv(\"WhitePandas.csv\",index=False)"
   ]
  },
  {
   "cell_type": "code",
   "execution_count": null,
   "metadata": {},
   "outputs": [],
   "source": [
    "train = pd.read_csv(\"WhitePandas.csv\")\n",
    "Dave = train[train['Owner']=='Dave']\n",
    "Vlad = train[train['Owner']=='Vlad']\n",
    "Stephen = train[train['Owner']=='Stephen']\n",
    "Kevin = train[train['Owner']=='Kevin']"
   ]
  },
  {
   "cell_type": "code",
   "execution_count": null,
   "metadata": {},
   "outputs": [],
   "source": [
    "train_numeric = train.drop(['Track ID','Tracks','Artists'], axis=1)\n",
    "\n",
    "KevDF_numeric = KevDF.drop(['Track ID','Tracks','Artists'], axis=1)\n",
    "KevDF_small = KevDF_numeric.drop(['tempo','key','loudness'], axis=1)\n",
    "\n",
    "DaveDF_numeric = DaveDF.drop(['Track ID','Tracks','Artists'], axis=1)\n",
    "DaveDF_small = DaveDF_numeric.drop(['tempo', 'key','loudness'], axis=1)\n",
    "\n",
    "VladDF_numeric = VladDF.drop(['Track ID','Tracks','Artists'], axis=1)\n",
    "VladDF_small = VladDF_numeric.drop(['tempo','key','loudness'], axis=1)\n",
    "\n",
    "StephenDF_numeric = StephenDF.drop(['Track ID','Tracks','Artists'], axis=1)\n",
    "StephenDF_small = StephenDF_numeric.drop(['tempo','key','loudness'], axis=1)\n",
    "\n",
    "\n",
    "VladDF_means = (VladDF_small.mean(axis=0)).T\n",
    "KevDF_means = pd.DataFrame(KevDF_small.mean(axis=0)).T\n",
    "DaveDF_means = pd.DataFrame(DaveDF_small.mean(axis=0)).T\n",
    "Stephen_means = pd.DataFrame(DaveDF_small.mean(axis=0)).T\n",
    "\n",
    "DaveDF_means['owner'] = 'Dave'\n",
    "KevDF_means['owner'] = 'Kev'\n",
    "VladDF_means['owner'] = 'Vlad'\n",
    "Stephen_means['owner'] = 'Stephen'\n",
    "\n",
    "#means = DaveDF_means.append(KevDF_means)\n",
    "#means.head()"
   ]
  },
  {
   "cell_type": "code",
   "execution_count": null,
   "metadata": {},
   "outputs": [],
   "source": []
  }
 ],
 "metadata": {
  "kernelspec": {
   "display_name": "Python 3",
   "language": "python",
   "name": "python3"
  },
  "language_info": {
   "codemirror_mode": {
    "name": "ipython",
    "version": 3
   },
   "file_extension": ".py",
   "mimetype": "text/x-python",
   "name": "python",
   "nbconvert_exporter": "python",
   "pygments_lexer": "ipython3",
   "version": "3.8.1"
  }
 },
 "nbformat": 4,
 "nbformat_minor": 2
}

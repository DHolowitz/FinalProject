{
 "cells": [
  {
   "cell_type": "code",
   "execution_count": 2,
   "metadata": {},
   "outputs": [],
   "source": [
    "import sys\n",
    "import spotipy\n",
    "import spotipy.util as util\n",
    "import re\n",
    "import pandas as pd\n",
    "import seaborn as sns\n",
    "import numpy as np\n",
    "import matplotlib.pyplot as plt\n",
    "from matplotlib import style\n",
    "from sklearn.model_selection import cross_val_predict\n",
    "from sklearn import metrics\n",
    "from sklearn import svm"
   ]
  },
  {
   "cell_type": "code",
   "execution_count": 3,
   "metadata": {},
   "outputs": [],
   "source": [
    "sp = spotipy.Spotify()\n",
    "scope = 'user-library-read'"
   ]
  },
  {
   "cell_type": "code",
   "execution_count": 4,
   "metadata": {},
   "outputs": [],
   "source": [
    "if len(sys.argv) > 1:\n",
    "    username = sys.argv[1]\n",
    "else:\n",
    "   print(\"Usage: %s username\" % (sys.argv[0],))\n",
    "   sys.exit()"
   ]
  },
  {
   "cell_type": "code",
   "execution_count": 5,
   "metadata": {},
   "outputs": [
    {
     "name": "stdout",
     "output_type": "stream",
     "text": [
      "\n",
      "\n",
      "            User authentication requires interaction with your\n",
      "            web browser. Once you enter your credentials and\n",
      "            give authorization, you will be redirected to\n",
      "            a url.  Paste that url you were directed to to\n",
      "            complete the authorization.\n",
      "\n",
      "        \n",
      "Opened https://accounts.spotify.com/authorize?client_id=e67d7b1bc1ee460bbef7484ee3f601ef&response_type=code&redirect_uri=https%3A%2F%2Fgoogle.com&scope=user-library-read in your browser\n",
      "\n",
      "\n",
      "Enter the URL you were redirected to: https://www.google.com/?code=AQAuJ2YvkaLNdBxmxnNMrY-kdP5MGx01ZwVHyYl4qkjxEl1GyO3FdAw-YaaYDz1pMIllaMKSYpk41qAYWHGmGVOrk2j9tzKdsUy-rwGbx0kM2pTNKEi7zGDKKZy0neyWL2rI0FQU3JWnNFyPCYynuDObh8IUZBohAnkrslLiHGHFNaRYls9n-vrv61Lbg0JQEALMb0vjvClmEbI\n",
      "\n",
      "\n"
     ]
    }
   ],
   "source": [
    "token = util.prompt_for_user_token(username,scope,\n",
    "                           client_id='e67d7b1bc1ee460bbef7484ee3f601ef',\n",
    "                           client_secret='ba0087b5f4ab4fb8ab88be1850854538',\n",
    "                           redirect_uri='https://google.com')"
   ]
  },
  {
   "cell_type": "code",
   "execution_count": 6,
   "metadata": {},
   "outputs": [],
   "source": [
    "df = pd.DataFrame(columns=['id', 'name', 'artists', 'danceability','energy','key',\n",
    "                           'loudness','mode','speechiness','acousticness',\n",
    "                           'instrumentalness','liveness','valence','tempo','duration_ms',\n",
    "                           'time_signature'])"
   ]
  },
  {
   "cell_type": "code",
   "execution_count": 7,
   "metadata": {},
   "outputs": [],
   "source": [
    "def music(uri, name, artists):\n",
    "    global df\n",
    "    global top2019\n",
    "    response = str(sp.audio_features(uri)[0])\n",
    "    response = response[1:-1]\n",
    "    response = response.split(\",\")\n",
    "    response.pop(11)\n",
    "    response.pop(11)\n",
    "    response.pop(11)\n",
    "    response.pop(11)\n",
    "    response.pop(11)\n",
    "    features = [uri, name, artists]\n",
    "    for x in response:\n",
    "        m = re.search(\"\\d\",x)\n",
    "        if m:\n",
    "            if \",\" in x:\n",
    "                x = x[:-1]\n",
    "            if x[m.start()-1] == \"-\":\n",
    "                feature = x[m.start()-1:]\n",
    "            else:\n",
    "                feature = x[m.start():]\n",
    "            try:\n",
    "                feature = float(feature)\n",
    "            except ValueError:\n",
    "                feature = feature\n",
    "            features.append(feature)\n",
    "    df.loc[df.shape[0]] =  [features[0][:-1],features[1],features[2],\n",
    "                            features[3],features[4],features[5],features[6],\n",
    "                            features[7],features[8],features[9],features[10],\n",
    "                            features[11],features[12],features[13],features[14],features[15]]"
   ]
  },
  {
   "cell_type": "code",
   "execution_count": 13,
   "metadata": {},
   "outputs": [],
   "source": [
    "def track_info(tracks):\n",
    "    idlist = []\n",
    "    for i, item in enumerate(tracks['items']):\n",
    "        track = item['track']\n",
    "        idlist.append([track['id'],track['name'],track['artists'][0]['name']])\n",
    "        #print(\" %d %32.32s %s\" % (i, track['artists'][0]['name'],track['name']))\n",
    "    return idlist"
   ]
  },
  {
   "cell_type": "code",
   "execution_count": 14,
   "metadata": {},
   "outputs": [
    {
     "ename": "IndexError",
     "evalue": "list index out of range",
     "output_type": "error",
     "traceback": [
      "\u001b[0;31m---------------------------------------------------------------------------\u001b[0m",
      "\u001b[0;31mIndexError\u001b[0m                                Traceback (most recent call last)",
      "\u001b[0;32m<ipython-input-14-5e8715aaeade>\u001b[0m in \u001b[0;36m<module>\u001b[0;34m\u001b[0m\n\u001b[1;32m      1\u001b[0m \u001b[0muri\u001b[0m \u001b[0;34m=\u001b[0m \u001b[0;34m'PLAYLIST-LINK'\u001b[0m\u001b[0;34m\u001b[0m\u001b[0;34m\u001b[0m\u001b[0m\n\u001b[0;32m----> 2\u001b[0;31m \u001b[0musername\u001b[0m \u001b[0;34m=\u001b[0m \u001b[0muri\u001b[0m\u001b[0;34m.\u001b[0m\u001b[0msplit\u001b[0m\u001b[0;34m(\u001b[0m\u001b[0;34m':'\u001b[0m\u001b[0;34m)\u001b[0m\u001b[0;34m[\u001b[0m\u001b[0;36m2\u001b[0m\u001b[0;34m]\u001b[0m\u001b[0;34m\u001b[0m\u001b[0;34m\u001b[0m\u001b[0m\n\u001b[0m\u001b[1;32m      3\u001b[0m \u001b[0mplaylist_id\u001b[0m \u001b[0;34m=\u001b[0m \u001b[0muri\u001b[0m\u001b[0;34m.\u001b[0m\u001b[0msplit\u001b[0m\u001b[0;34m(\u001b[0m\u001b[0;34m':'\u001b[0m\u001b[0;34m)\u001b[0m\u001b[0;34m[\u001b[0m\u001b[0;36m4\u001b[0m\u001b[0;34m]\u001b[0m\u001b[0;34m\u001b[0m\u001b[0;34m\u001b[0m\u001b[0m\n",
      "\u001b[0;31mIndexError\u001b[0m: list index out of range"
     ]
    }
   ],
   "source": [
    "uri = 'PLAYLIST-LINK'\n",
    "username = uri.split(':')[2]\n",
    "playlist_id = uri.split(':')[4]"
   ]
  },
  {
   "cell_type": "code",
   "execution_count": null,
   "metadata": {},
   "outputs": [],
   "source": [
    "if token:\n",
    "    sp= spotipy.Spotify(auth=token)\n",
    "    results = sp.user_playlist(username,playlist_id,fields='tracks,next')\n",
    "    tracks = results['tracks']\n",
    "    playlist = track_info(tracks)\n",
    "    \n",
    "    for x in playlist:\n",
    "        music(x[0],x[1],x[2])\n",
    "    \n",
    "else:\n",
    "    print(\"Can't get token for\", username)\n",
    "\n",
    "df.to_csv('davedf.csv',index=False)"
   ]
  },
  {
   "cell_type": "code",
   "execution_count": null,
   "metadata": {},
   "outputs": [],
   "source": [
    "davedf = pd.read_csv(\"davedf.csv\")\n",
    "vladdf = pd.read_csv(\"vladdf.csv\")\n",
    "stephendf = pd.read_csv(\"stephendf.csv\")\n",
    "kevindf = pd.read_csv(\"kevin.csv\")"
   ]
  },
  {
   "cell_type": "code",
   "execution_count": null,
   "metadata": {},
   "outputs": [],
   "source": [
    "df = pd.DataFrame(columns=['owner','id', 'name', 'artists', \n",
    "                           'danceability','energy','key',\n",
    "                           'loudness','mode','speechiness',\n",
    "                           'acousticness','instrumentalness',\n",
    "                           'liveness','valence','tempo',\n",
    "                           'duration_ms','time_signature'])\n"
   ]
  },
  {
   "cell_type": "code",
   "execution_count": null,
   "metadata": {},
   "outputs": [],
   "source": [
    "sp = spotipy.Spotify()\n",
    "scope = 'user-library-read'\n",
    "\n",
    "token = util.prompt_for_user_token(username,scope,\n",
    "                           client_id='e67d7b1bc1ee460bbef7484ee3f601ef',\n",
    "                           client_secret='ba0087b5f4ab4fb8ab88be1850854538',\n",
    "                           redirect_uri='https://google.com')\n",
    "if len(sys.argv) > 1:\n",
    "    username = sys.argv[1]\n",
    "else:\n",
    "   print(\"Usage: %s username\" % (sys.argv[0],))\n",
    "   sys.exit()"
   ]
  },
  {
   "cell_type": "code",
   "execution_count": null,
   "metadata": {},
   "outputs": [],
   "source": [
    "df = pd.DataFrame(columns=['id', 'name', 'artists', 'danceability',\n",
    "                           'energy','key','loudness','mode','speechiness',\n",
    "                           'acousticness','instrumentalness','liveness',\n",
    "                           'valence','tempo','duration_ms','time_signature'])"
   ]
  },
  {
   "cell_type": "code",
   "execution_count": null,
   "metadata": {},
   "outputs": [],
   "source": [
    "for index, row in davedf.iterrows():\n",
    "    df.loc[df.shape[0]] =  ['Dave',row['id'],row['name'],\n",
    "                            row['artists'],row['danceability'],\n",
    "                            row['energy'],row['key'],row['loudness'],\n",
    "                            row['mode'],row['speechiness'],row['acousticness'],\n",
    "                            row['instrumentalness'],row['liveness'],row['valence'],\n",
    "                            row['tempo'],row['duration_ms'],row['time_signature']]"
   ]
  },
  {
   "cell_type": "code",
   "execution_count": null,
   "metadata": {},
   "outputs": [],
   "source": [
    "for index, row in vladdf.iterrows():\n",
    "df.loc[df.shape[0]] =  ['Vlad',row['id'],row['name'],\n",
    "                        row['artists'],row['danceability'],\n",
    "                        row['energy'],row['key'],row['loudness'],\n",
    "                        row['mode'],row['speechiness'],row['acousticness'],\n",
    "                        row['instrumentalness'],row['liveness'],row['valence'],\n",
    "                        row['tempo'],row['duration_ms'],row['time_signature']]"
   ]
  },
  {
   "cell_type": "code",
   "execution_count": null,
   "metadata": {},
   "outputs": [],
   "source": [
    "for index, row in stephendf.iterrows():\n",
    "    df.loc[df.shape[0]] =  ['Stephen',row['id'],row['name'],\n",
    "                            row['artists'],row['danceability'],\n",
    "                            row['energy'],row['key'],row['loudness'],\n",
    "                            row['mode'],row['speechiness'],row['acousticness'],\n",
    "                            row['instrumentalness'],row['liveness'],row['valence'],\n",
    "                            row['tempo'],row['duration_ms'],row['time_signature']]"
   ]
  },
  {
   "cell_type": "code",
   "execution_count": null,
   "metadata": {},
   "outputs": [],
   "source": [
    "for index, row in kevindf.iterrows():\n",
    "    df.loc[df.shape[0]] =  ['Kevin',row['id'],row['name'],\n",
    "                            row['artists'],row['danceability'],\n",
    "                            row['energy'],row['key'],row['loudness'],\n",
    "                            row['mode'],row['speechiness'],row['acousticness'],\n",
    "                            row['instrumentalness'],row['liveness'],row['valence'],\n",
    "                            row['tempo'],row['duration_ms'],row['time_signature']]"
   ]
  },
  {
   "cell_type": "code",
   "execution_count": null,
   "metadata": {},
   "outputs": [],
   "source": [
    "df.to_csv(\"WhitePandas.csv\",index=False)\n",
    "print(\"Success!\")"
   ]
  }
 ],
 "metadata": {
  "kernelspec": {
   "display_name": "Python 3",
   "language": "python",
   "name": "python3"
  },
  "language_info": {
   "codemirror_mode": {
    "name": "ipython",
    "version": 3
   },
   "file_extension": ".py",
   "mimetype": "text/x-python",
   "name": "python",
   "nbconvert_exporter": "python",
   "pygments_lexer": "ipython3",
   "version": "3.8.1"
  }
 },
 "nbformat": 4,
 "nbformat_minor": 2
}

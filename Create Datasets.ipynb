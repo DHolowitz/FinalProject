{
 "cells": [
  {
   "cell_type": "code",
   "execution_count": 6,
   "metadata": {},
   "outputs": [],
   "source": [
    "import sys\n",
    "import spotipy\n",
    "import spotipy.util as util\n",
    "import re\n",
    "import pandas as pd"
   ]
  },
  {
   "cell_type": "code",
   "execution_count": 7,
   "metadata": {},
   "outputs": [],
   "source": [
    "def music(uri, name, artists):\n",
    "    global df\n",
    "    global top2019\n",
    "    response = str(sp.audio_features(uri)[0])\n",
    "    response = response[1:-1]\n",
    "    response = response.split(\",\")\n",
    "    response.pop(11)\n",
    "    response.pop(11)\n",
    "    response.pop(11)\n",
    "    response.pop(11)\n",
    "    response.pop(11)\n",
    "    features = [uri, name, artists]\n",
    "    for x in response:\n",
    "        m = re.search(\"\\d\",x)\n",
    "        if m:\n",
    "            if \",\" in x:\n",
    "                x = x[:-1]\n",
    "            if x[m.start()-1] == \"-\":\n",
    "                feature = x[m.start()-1:]\n",
    "            else:\n",
    "                feature = x[m.start():]\n",
    "            try:\n",
    "                feature = float(feature)\n",
    "            except ValueError:\n",
    "                feature = feature\n",
    "            features.append(feature)\n",
    "    df.loc[df.shape[0]] =  [features[0][:-1],features[1],features[2],\n",
    "                            features[3],features[4],features[5],features[6],\n",
    "                            features[7],features[8],features[9],features[10],\n",
    "                            features[11],features[12],features[13],features[14],features[15]]\n"
   ]
  },
  {
   "cell_type": "code",
   "execution_count": 8,
   "metadata": {},
   "outputs": [],
   "source": [
    "def track_info(tracks):\n",
    "    idlist = []\n",
    "    for i, item in enumerate(tracks['items']):\n",
    "        track = item['track']\n",
    "        idlist.append([track['id'],track['name'],track['artists'][0]['name']])\n",
    "        #print(\" %d %32.32s %s\" % (i, track['artists'][0]['name'],track['name']))\n",
    "    return idlist"
   ]
  },
  {
   "cell_type": "code",
   "execution_count": 9,
   "metadata": {},
   "outputs": [
    {
     "ename": "IndexError",
     "evalue": "list index out of range",
     "output_type": "error",
     "traceback": [
      "\u001b[0;31m---------------------------------------------------------------------------\u001b[0m",
      "\u001b[0;31mIndexError\u001b[0m                                Traceback (most recent call last)",
      "\u001b[0;32m<ipython-input-9-5e8715aaeade>\u001b[0m in \u001b[0;36m<module>\u001b[0;34m\u001b[0m\n\u001b[1;32m      1\u001b[0m \u001b[0muri\u001b[0m \u001b[0;34m=\u001b[0m \u001b[0;34m'PLAYLIST-LINK'\u001b[0m\u001b[0;34m\u001b[0m\u001b[0;34m\u001b[0m\u001b[0m\n\u001b[0;32m----> 2\u001b[0;31m \u001b[0musername\u001b[0m \u001b[0;34m=\u001b[0m \u001b[0muri\u001b[0m\u001b[0;34m.\u001b[0m\u001b[0msplit\u001b[0m\u001b[0;34m(\u001b[0m\u001b[0;34m':'\u001b[0m\u001b[0;34m)\u001b[0m\u001b[0;34m[\u001b[0m\u001b[0;36m2\u001b[0m\u001b[0;34m]\u001b[0m\u001b[0;34m\u001b[0m\u001b[0;34m\u001b[0m\u001b[0m\n\u001b[0m\u001b[1;32m      3\u001b[0m \u001b[0mplaylist_id\u001b[0m \u001b[0;34m=\u001b[0m \u001b[0muri\u001b[0m\u001b[0;34m.\u001b[0m\u001b[0msplit\u001b[0m\u001b[0;34m(\u001b[0m\u001b[0;34m':'\u001b[0m\u001b[0;34m)\u001b[0m\u001b[0;34m[\u001b[0m\u001b[0;36m4\u001b[0m\u001b[0;34m]\u001b[0m\u001b[0;34m\u001b[0m\u001b[0;34m\u001b[0m\u001b[0m\n",
      "\u001b[0;31mIndexError\u001b[0m: list index out of range"
     ]
    }
   ],
   "source": [
    "uri = 'PLAYLIST-LINK'\n",
    "username = uri.split(':')[2]\n",
    "playlist_id = uri.split(':')[4]"
   ]
  },
  {
   "cell_type": "code",
   "execution_count": null,
   "metadata": {},
   "outputs": [],
   "source": [
    "if token:\n",
    "    sp= spotipy.Spotify(auth=token)\n",
    "    results = sp.user_playlist(username,playlist_id,fields='tracks,next')\n",
    "    tracks = results['tracks']\n",
    "    playlist = track_info(tracks)\n",
    "    \n",
    "    for x in playlist:\n",
    "        music(x[0],x[1],x[2])\n",
    "    \n",
    "else:\n",
    "    print(\"Can't get token for\", username)\n",
    "\n",
    "df.to_csv('davedf.csv',index=False)"
   ]
  },
  {
   "cell_type": "code",
   "execution_count": null,
   "metadata": {},
   "outputs": [],
   "source": [
    "davedf = pd.read_csv(\"davedf.csv\")\n",
    "vladdf = pd.read_csv(\"vladdf.csv\")\n",
    "stephendf = pd.read_csv(\"stephendf.csv\")\n",
    "kevindf = pd.read_csv(\"kevin.csv\")"
   ]
  },
  {
   "cell_type": "code",
   "execution_count": null,
   "metadata": {},
   "outputs": [],
   "source": [
    "df = pd.DataFrame(columns=['owner','id', 'name', 'artists', \n",
    "                           'danceability','energy','key',\n",
    "                           'loudness','mode','speechiness',\n",
    "                           'acousticness','instrumentalness',\n",
    "                           'liveness','valence','tempo',\n",
    "                           'duration_ms','time_signature'])\n"
   ]
  },
  {
   "cell_type": "code",
   "execution_count": null,
   "metadata": {},
   "outputs": [],
   "source": [
    "sp = spotipy.Spotify()\n",
    "scope = 'user-library-read'\n",
    "\n",
    "token = util.prompt_for_user_token(username,scope,\n",
    "                           client_id='e67d7b1bc1ee460bbef7484ee3f601ef',\n",
    "                           client_secret='ba0087b5f4ab4fb8ab88be1850854538',\n",
    "                           redirect_uri='https://google.com')\n",
    "if len(sys.argv) > 1:\n",
    "    username = sys.argv[1]\n",
    "else:\n",
    "   print(\"Usage: %s username\" % (sys.argv[0],))\n",
    "   sys.exit()"
   ]
  },
  {
   "cell_type": "code",
   "execution_count": null,
   "metadata": {},
   "outputs": [],
   "source": [
    "df = pd.DataFrame(columns=['id', 'name', 'artists', 'danceability',\n",
    "                           'energy','key','loudness','mode','speechiness',\n",
    "                           'acousticness','instrumentalness','liveness',\n",
    "                           'valence','tempo','duration_ms','time_signature'])"
   ]
  },
  {
   "cell_type": "code",
   "execution_count": null,
   "metadata": {},
   "outputs": [],
   "source": [
    "for index, row in davedf.iterrows():\n",
    "    df.loc[df.shape[0]] =  ['Dave',row['id'],row['name'],\n",
    "                            row['artists'],row['danceability'],\n",
    "                            row['energy'],row['key'],row['loudness'],\n",
    "                            row['mode'],row['speechiness'],row['acousticness'],\n",
    "                            row['instrumentalness'],row['liveness'],row['valence'],\n",
    "                            row['tempo'],row['duration_ms'],row['time_signature']]"
   ]
  },
  {
   "cell_type": "code",
   "execution_count": null,
   "metadata": {},
   "outputs": [],
   "source": [
    "for index, row in vladdf.iterrows():\n",
    "df.loc[df.shape[0]] =  ['Vlad',row['id'],row['name'],\n",
    "                        row['artists'],row['danceability'],\n",
    "                        row['energy'],row['key'],row['loudness'],\n",
    "                        row['mode'],row['speechiness'],row['acousticness'],\n",
    "                        row['instrumentalness'],row['liveness'],row['valence'],\n",
    "                        row['tempo'],row['duration_ms'],row['time_signature']]"
   ]
  },
  {
   "cell_type": "code",
   "execution_count": null,
   "metadata": {},
   "outputs": [],
   "source": [
    "for index, row in stephendf.iterrows():\n",
    "    df.loc[df.shape[0]] =  ['Stephen',row['id'],row['name'],\n",
    "                            row['artists'],row['danceability'],\n",
    "                            row['energy'],row['key'],row['loudness'],\n",
    "                            row['mode'],row['speechiness'],row['acousticness'],\n",
    "                            row['instrumentalness'],row['liveness'],row['valence'],\n",
    "                            row['tempo'],row['duration_ms'],row['time_signature']]"
   ]
  },
  {
   "cell_type": "code",
   "execution_count": null,
   "metadata": {},
   "outputs": [],
   "source": [
    "for index, row in kevindf.iterrows():\n",
    "    df.loc[df.shape[0]] =  ['Kevin',row['id'],row['name'],\n",
    "                            row['artists'],row['danceability'],\n",
    "                            row['energy'],row['key'],row['loudness'],\n",
    "                            row['mode'],row['speechiness'],row['acousticness'],\n",
    "                            row['instrumentalness'],row['liveness'],row['valence'],\n",
    "                            row['tempo'],row['duration_ms'],row['time_signature']]"
   ]
  },
  {
   "cell_type": "code",
   "execution_count": null,
   "metadata": {},
   "outputs": [],
   "source": [
    "df.to_csv(\"WhitePandas.csv\",index=False)\n",
    "print(\"Success!\")"
   ]
  }
 ],
 "metadata": {
  "kernelspec": {
   "display_name": "Python 3",
   "language": "python",
   "name": "python3"
  },
  "language_info": {
   "codemirror_mode": {
    "name": "ipython",
    "version": 3
   },
   "file_extension": ".py",
   "mimetype": "text/x-python",
   "name": "python",
   "nbconvert_exporter": "python",
   "pygments_lexer": "ipython3",
   "version": "3.7.3"
  }
 },
 "nbformat": 4,
 "nbformat_minor": 2
}

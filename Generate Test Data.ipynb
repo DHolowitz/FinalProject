{
 "cells": [
  {
   "cell_type": "code",
   "execution_count": 13,
   "metadata": {},
   "outputs": [],
   "source": [
    "# import spotipy\n",
    "# import spotipy.util as util\n",
    "import pandas as pd\n",
    "import os\n",
    "import time\n",
    "import requests\n",
    "from bs4 import BeautifulSoup as bs\n",
    "import datetime\n",
    "from datetime import timedelta, date\n",
    "import glob\n",
    "from os import listdir\n",
    "import numpy as np\n",
    "import pymongo\n",
    "import csv\n",
    "import json\n",
    "import sys, getopt, pprint\n",
    "from pymongo import MongoClient\n",
    "import types\n",
    "import itertools\n",
    "from itertools import zip_longest\n",
    "import scipy.stats\n",
    "import matplotlib.pyplot as plt\n",
    "import seaborn as sns\n",
    "from sklearn.model_selection import train_test_split\n",
    "from sklearn.metrics import accuracy_score\n",
    "from sklearn.ensemble import RandomForestClassifier\n",
    "from sklearn.model_selection import GridSearchCV"
   ]
  },
  {
   "cell_type": "code",
   "execution_count": 14,
   "metadata": {},
   "outputs": [
    {
     "name": "stdout",
     "output_type": "stream",
     "text": [
      "La La La, Blah Blah Blah - The Gutter Daisies\n",
      "Hit Or Miss - New Found Glory\n",
      "Hit Or Miss - New Found Glory\n",
      "Elephant And Castle - Houston Calls\n",
      "A Favor House Atlantic - Coheed and Cambria\n",
      "My Friends Over You - New Found Glory\n",
      "Screaming Infidelities - Dashboard Confessional\n",
      "The Best Deceptions - Dashboard Confessional\n",
      "Again I Go Unnoticed - Dashboard Confessional\n"
     ]
    }
   ],
   "source": [
    "scope = 'user-library-read'\n",
    "\n",
    "if len(sys.argv) > 1:\n",
    "    username = sys.argv[1]\n",
    "else:\n",
    "    print (\"Usage: %s username\" % (sys.argv[0],))\n",
    "    sys.exit()\n",
    "    \n",
    "token = util.prompt_for_user_token(username,scope,\n",
    "                           client_id='e67d7b1bc1ee460bbef7484ee3f601ef',\n",
    "                           client_secret='ba0087b5f4ab4fb8ab88be1850854538',\n",
    "                           redirect_uri='https://google.com')\n",
    "\n",
    "if token:\n",
    "    sp = spotipy.Spotify(auth=token)\n",
    "    results = sp.current_user_saved_tracks()\n",
    "    for item in results['items']:\n",
    "        track = item['track']\n",
    "        print (track['name'] + ' - ' + track['artists'][0]['name'])\n",
    "else:\n",
    "    print (\"Can't get token for\", username)"
   ]
  },
  {
   "cell_type": "code",
   "execution_count": 15,
   "metadata": {},
   "outputs": [],
   "source": [
    "def show_tracks(tracks):\n",
    "    for i, item in enumerate(tracks['items']):\n",
    "        track = item['track']\n",
    "        print (\"   %d %32.32s %s\" % (i, track['artists'][0]['name'],\n",
    "            track['name']))\n",
    "\n",
    "if __name__ == '__main__':\n",
    "    if len(sys.argv) > 1:\n",
    "        username = sys.argv[1]\n",
    "    else:\n",
    "        print (\"Whoops, need your username!\")\n",
    "        print (\"usage: python user_playlists.py [username]\")\n",
    "        sys.exit()\n",
    "\n",
    "    token = util.prompt_for_user_token(username,scope,\n",
    "                       client_id='e67d7b1bc1ee460bbef7484ee3f601ef',\n",
    "                       client_secret='ba0087b5f4ab4fb8ab88be1850854538',\n",
    "                       redirect_uri='https://google.com')\n",
    "    if token:\n",
    "        sp = spotipy.Spotify(auth=token)\n",
    "        playlists = sp.user_playlists(username)\n",
    "        for playlist in playlists['items']:\n",
    "            if playlist['owner']['id'] == username:\n",
    "                playlists = sp.user_playlists(username)\n",
    "                print\n",
    "                print (playlist['name'])\n",
    "                print ('  total tracks', playlist['tracks']['total'])\n",
    "                results = sp.user_playlist(username, playlist['id'],\n",
    "                    fields=\"tracks,next\")\n",
    "                tracks = results['tracks']\n",
    "                show_tracks(tracks)\n",
    "                while tracks['next']:\n",
    "                    tracks = sp.next(tracks)\n",
    "                    show_tracks(tracks)\n",
    "    else:\n",
    "        print (\"Can't get token for\", username)"
   ]
  },
  {
   "cell_type": "code",
   "execution_count": 16,
   "metadata": {},
   "outputs": [
    {
     "data": {
      "text/plain": [
       "dict_values(['Drift away', {'href': 'https://api.spotify.com/v1/browse/featured-playlists?country=US&timestamp=2020-01-16T02%3A15%3A20&offset=0&limit=4', 'items': [{'collaborative': False, 'description': 'Relax and indulge with some profoundly beautiful piano pieces.', 'external_urls': {'spotify': 'https://open.spotify.com/playlist/37i9dQZF1DX4sWSpwq3LiO'}, 'href': 'https://api.spotify.com/v1/playlists/37i9dQZF1DX4sWSpwq3LiO', 'id': '37i9dQZF1DX4sWSpwq3LiO', 'images': [{'height': None, 'url': 'https://i.scdn.co/image/ab67706f00000002ca5a7517156021292e5663a6', 'width': None}], 'name': 'Peaceful Piano', 'owner': {'display_name': 'Spotify', 'external_urls': {'spotify': 'https://open.spotify.com/user/spotify'}, 'href': 'https://api.spotify.com/v1/users/spotify', 'id': 'spotify', 'type': 'user', 'uri': 'spotify:user:spotify'}, 'primary_color': None, 'public': None, 'snapshot_id': 'MTU3ODk5MzE0MSwwMDAwMDBhZTAwMDAwMTZmYTM1MzQ2OWUwMDAwMDE2ZDE1NTk1OTFk', 'tracks': {'href': 'https://api.spotify.com/v1/playlists/37i9dQZF1DX4sWSpwq3LiO/tracks', 'total': 247}, 'type': 'playlist', 'uri': 'spotify:playlist:37i9dQZF1DX4sWSpwq3LiO'}, {'collaborative': False, 'description': 'Deep cuts and new vibes for late nights.', 'external_urls': {'spotify': 'https://open.spotify.com/playlist/37i9dQZF1DXbcP8BbYEQaO'}, 'href': 'https://api.spotify.com/v1/playlists/37i9dQZF1DXbcP8BbYEQaO', 'id': '37i9dQZF1DXbcP8BbYEQaO', 'images': [{'height': None, 'url': 'https://pl.scdn.co/images/pl/default/79f1ecd290c813a4deff9439f9d045e84dc76626', 'width': None}], 'name': 'Night Pop', 'owner': {'display_name': 'Spotify', 'external_urls': {'spotify': 'https://open.spotify.com/user/spotify'}, 'href': 'https://api.spotify.com/v1/users/spotify', 'id': 'spotify', 'type': 'user', 'uri': 'spotify:user:spotify'}, 'primary_color': None, 'public': None, 'snapshot_id': 'MTU2OTYyMDM2NSwwMDAwMDAwYjAwMDAwMTZkNzRhYTExNWEwMDAwMDE2Yjc2ZGQxMTU1', 'tracks': {'href': 'https://api.spotify.com/v1/playlists/37i9dQZF1DXbcP8BbYEQaO/tracks', 'total': 99}, 'type': 'playlist', 'uri': 'spotify:playlist:37i9dQZF1DXbcP8BbYEQaO'}, {'collaborative': False, 'description': '10+ hours of the best hip hop to keep your gaming going.', 'external_urls': {'spotify': 'https://open.spotify.com/playlist/37i9dQZF1DWT5MrZnPU1zD'}, 'href': 'https://api.spotify.com/v1/playlists/37i9dQZF1DWT5MrZnPU1zD', 'id': '37i9dQZF1DWT5MrZnPU1zD', 'images': [{'height': None, 'url': 'https://i.scdn.co/image/ab67706f00000002c98e1f459c24f023a8fbf12e', 'width': None}], 'name': 'Hip Hop Controller', 'owner': {'display_name': 'Spotify', 'external_urls': {'spotify': 'https://open.spotify.com/user/spotify'}, 'href': 'https://api.spotify.com/v1/users/spotify', 'id': 'spotify', 'type': 'user', 'uri': 'spotify:user:spotify'}, 'primary_color': None, 'public': None, 'snapshot_id': 'MTU3OTE0MDg4OCwwMDAwMDAwMGQ0MWQ4Y2Q5OGYwMGIyMDRlOTgwMDk5OGVjZjg0Mjdl', 'tracks': {'href': 'https://api.spotify.com/v1/playlists/37i9dQZF1DWT5MrZnPU1zD/tracks', 'total': 202}, 'type': 'playlist', 'uri': 'spotify:playlist:37i9dQZF1DWT5MrZnPU1zD'}, {'collaborative': False, 'description': 'High-Key bangers for Low-Key enjoyment.', 'external_urls': {'spotify': 'https://open.spotify.com/playlist/37i9dQZF1DX2yvmlOdMYzV'}, 'href': 'https://api.spotify.com/v1/playlists/37i9dQZF1DX2yvmlOdMYzV', 'id': '37i9dQZF1DX2yvmlOdMYzV', 'images': [{'height': None, 'url': 'https://i.scdn.co/image/ab67706f0000000222303b4b363166b573badb98', 'width': None}], 'name': 'Low-Key', 'owner': {'display_name': 'Spotify', 'external_urls': {'spotify': 'https://open.spotify.com/user/spotify'}, 'href': 'https://api.spotify.com/v1/users/spotify', 'id': 'spotify', 'type': 'user', 'uri': 'spotify:user:spotify'}, 'primary_color': None, 'public': None, 'snapshot_id': 'MTU3OTE0MDg3OCwwMDAwMDAwMGQ0MWQ4Y2Q5OGYwMGIyMDRlOTgwMDk5OGVjZjg0Mjdl', 'tracks': {'href': 'https://api.spotify.com/v1/playlists/37i9dQZF1DX2yvmlOdMYzV/tracks', 'total': 100}, 'type': 'playlist', 'uri': 'spotify:playlist:37i9dQZF1DX2yvmlOdMYzV'}], 'limit': 4, 'next': 'https://api.spotify.com/v1/browse/featured-playlists?country=US&timestamp=2020-01-16T02%3A15%3A20&offset=4&limit=4', 'offset': 0, 'previous': None, 'total': 10}])"
      ]
     },
     "execution_count": 16,
     "metadata": {},
     "output_type": "execute_result"
    }
   ],
   "source": [
    "USplaylist = sp.featured_playlists(locale=None, country='US', timestamp=None, limit=4, offset=0)\n",
    "USplaylist.values()"
   ]
  },
  {
   "cell_type": "code",
   "execution_count": null,
   "metadata": {},
   "outputs": [],
   "source": []
  },
  {
   "cell_type": "code",
   "execution_count": null,
   "metadata": {},
   "outputs": [],
   "source": []
  }
 ],
 "metadata": {
  "kernelspec": {
   "display_name": "Python 3",
   "language": "python",
   "name": "python3"
  },
  "language_info": {
   "codemirror_mode": {
    "name": "ipython",
    "version": 3
   },
   "file_extension": ".py",
   "mimetype": "text/x-python",
   "name": "python",
   "nbconvert_exporter": "python",
   "pygments_lexer": "ipython3",
   "version": "3.8.1"
  }
 },
 "nbformat": 4,
 "nbformat_minor": 2
}

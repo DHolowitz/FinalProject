{
 "cells": [
  {
   "cell_type": "code",
   "execution_count": 1,
   "metadata": {},
   "outputs": [
    {
     "name": "stdout",
     "output_type": "stream",
     "text": [
      "\n",
      "\n",
      "            User authentication requires interaction with your\n",
      "            web browser. Once you enter your credentials and\n",
      "            give authorization, you will be redirected to\n",
      "            a url.  Paste that url you were directed to to\n",
      "            complete the authorization.\n",
      "\n",
      "        \n",
      "Opened https://accounts.spotify.com/authorize?client_id=e67d7b1bc1ee460bbef7484ee3f601ef&response_type=code&redirect_uri=https%3A%2F%2Fgoogle.com&scope=user-library-read in your browser\n",
      "\n",
      "\n",
      "Enter the URL you were redirected to: https://www.google.com/?code=AQCLX-UkyJCiv1wG6tDjwv2c2v9pJ_OtQQVNNZ60fAQ6QpHuvGWbWiOqkctVI_6vDw3Fnoi_03vh5_pFEiHIaN7i0QnDsLPJOCqgMwofNZNV1vYMMGPUY6c9C95OvCG7J9rbb8NuKbDlWAmh3AZKcoeQ9YtuaFtlnyA-G9IxaftYclKhMC9YDlqYQXf7qnDrwLyoTJC2wvnFOj4\n",
      "\n",
      "\n"
     ]
    },
    {
     "ename": "IndexError",
     "evalue": "pop index out of range",
     "output_type": "error",
     "traceback": [
      "\u001b[0;31m---------------------------------------------------------------------------\u001b[0m",
      "\u001b[0;31mIndexError\u001b[0m                                Traceback (most recent call last)",
      "\u001b[0;32m<ipython-input-1-1d588be1fda3>\u001b[0m in \u001b[0;36m<module>\u001b[0;34m\u001b[0m\n\u001b[1;32m     26\u001b[0m         \u001b[0mresponse\u001b[0m \u001b[0;34m=\u001b[0m \u001b[0mresponse\u001b[0m\u001b[0;34m[\u001b[0m\u001b[0;36m1\u001b[0m\u001b[0;34m:\u001b[0m\u001b[0;34m-\u001b[0m\u001b[0;36m1\u001b[0m\u001b[0;34m]\u001b[0m\u001b[0;34m\u001b[0m\u001b[0;34m\u001b[0m\u001b[0m\n\u001b[1;32m     27\u001b[0m         \u001b[0mresponse\u001b[0m \u001b[0;34m=\u001b[0m \u001b[0mresponse\u001b[0m\u001b[0;34m.\u001b[0m\u001b[0msplit\u001b[0m\u001b[0;34m(\u001b[0m\u001b[0;34m\",\"\u001b[0m\u001b[0;34m)\u001b[0m\u001b[0;34m\u001b[0m\u001b[0;34m\u001b[0m\u001b[0m\n\u001b[0;32m---> 28\u001b[0;31m         \u001b[0mresponse\u001b[0m\u001b[0;34m.\u001b[0m\u001b[0mpop\u001b[0m\u001b[0;34m(\u001b[0m\u001b[0;36m11\u001b[0m\u001b[0;34m)\u001b[0m\u001b[0;34m\u001b[0m\u001b[0;34m\u001b[0m\u001b[0m\n\u001b[0m\u001b[1;32m     29\u001b[0m         \u001b[0mresponse\u001b[0m\u001b[0;34m.\u001b[0m\u001b[0mpop\u001b[0m\u001b[0;34m(\u001b[0m\u001b[0;36m11\u001b[0m\u001b[0;34m)\u001b[0m\u001b[0;34m\u001b[0m\u001b[0;34m\u001b[0m\u001b[0m\n\u001b[1;32m     30\u001b[0m         \u001b[0mresponse\u001b[0m\u001b[0;34m.\u001b[0m\u001b[0mpop\u001b[0m\u001b[0;34m(\u001b[0m\u001b[0;36m11\u001b[0m\u001b[0;34m)\u001b[0m\u001b[0;34m\u001b[0m\u001b[0;34m\u001b[0m\u001b[0m\n",
      "\u001b[0;31mIndexError\u001b[0m: pop index out of range"
     ]
    }
   ],
   "source": [
    "import sys\n",
    "import spotipy\n",
    "import spotipy.util as util\n",
    "import re\n",
    "import pandas as pd\n",
    "\n",
    "sp = spotipy.Spotify()\n",
    "scope = 'user-library-read'\n",
    "username = 'Dave'\n",
    "\n",
    "token = util.prompt_for_user_token(username,scope,\n",
    "                           client_id='e67d7b1bc1ee460bbef7484ee3f601ef',\n",
    "                           client_secret='ba0087b5f4ab4fb8ab88be1850854538',\n",
    "                           redirect_uri='https://google.com')\n",
    "\n",
    "df = pd.DataFrame(columns=['danceability','energy','key','loudness','mode',\n",
    "                           'speechiness','acousticness','instrumentalness',\n",
    "                           'liveness','valence','tempo','duration_ms','time_signature'])\n",
    "\n",
    "uris = ['LIST-OF-SONG-URIS']\n",
    "\n",
    "if token:\n",
    "    sp= spotipy.Spotify(auth=token)\n",
    "    for uri in uris:\n",
    "        response = str(sp.audio_features(uri)[0])\n",
    "        response = response[1:-1]\n",
    "        response = response.split(\",\")\n",
    "        response.pop(11)\n",
    "        response.pop(11)\n",
    "        response.pop(11)\n",
    "        response.pop(11)\n",
    "        response.pop(11)\n",
    "        features = []\n",
    "        for x in response:\n",
    "            m = re.search(\"\\d\",x)\n",
    "            if m:\n",
    "                if \",\" in x:\n",
    "                    x = x[:-1]\n",
    "                if x[m.start()-1] == \"-\":\n",
    "                    feature = x[m.start()-1:]\n",
    "                else:\n",
    "                    feature = x[m.start():]\n",
    "                try:\n",
    "                    feature = float(feature)\n",
    "                except ValueError:\n",
    "                    feature = feature\n",
    "                features.append(feature)\n",
    "        df.loc[df.shape[0]] =  [features[0],features[1],features[2],features[3],features[4],features[5],features[6],features[7],features[8],features[9],features[10],features[11],features[12]]\n",
    "       \n",
    "else:\n",
    "    print(\"Can't get token for\", username)\n",
    "\n",
    "df.to_csv('testdf.csv',index=False)\n",
    "print('Success!')"
   ]
  },
  {
   "cell_type": "code",
   "execution_count": null,
   "metadata": {},
   "outputs": [],
   "source": []
  }
 ],
 "metadata": {
  "kernelspec": {
   "display_name": "Python 3",
   "language": "python",
   "name": "python3"
  },
  "language_info": {
   "codemirror_mode": {
    "name": "ipython",
    "version": 3
   },
   "file_extension": ".py",
   "mimetype": "text/x-python",
   "name": "python",
   "nbconvert_exporter": "python",
   "pygments_lexer": "ipython3",
   "version": "3.7.3"
  }
 },
 "nbformat": 4,
 "nbformat_minor": 2
}
